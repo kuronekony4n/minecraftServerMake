{
  "nbformat": 4,
  "nbformat_minor": 0,
  "metadata": {
    "colab": {
      "name": "MinecraftServerMake.ipynb",
      "provenance": []
    },
    "kernelspec": {
      "name": "python3",
      "display_name": "Python 3"
    }
  },
  "cells": [
    {
      "cell_type": "code",
      "metadata": {
        "id": "ZGKjtJ_17_l4"
      },
      "source": [
        "YOUR MOM GAY"
      ],
      "execution_count": null,
      "outputs": []
    }
  ]
}
